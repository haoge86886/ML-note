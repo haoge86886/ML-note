{
 "cells": [
  {
   "cell_type": "markdown",
   "id": "40b6dc63-140a-4587-b577-662d0f6f3ff2",
   "metadata": {},
   "source": [
    "cell 单元格\n",
    "\n",
    "有两个状态:\n",
    "编辑状态:能看到光标闪动,可以编辑并写代码或文本\n",
    "选中状态:没有光标,可以对单元格操作,复制,删除,切换模式....\n",
    "编辑-->选中:ESC\n",
    "选中-->编辑:回车\n",
    "\n",
    "有两个模式:\n",
    "Code:可以运行代码\n",
    "Markdown:识别Markdown语法\n",
    "使用Ctrl + Enter运行当前选中单元格\n",
    "\n",
    "Code-->Markdown:选中状态下按M\n",
    "Markdown-->Code:按Y"
   ]
  },
  {
   "cell_type": "code",
   "execution_count": null,
   "id": "2c0d2d8e-ab0a-4bd3-8fcf-9bdb50ddafcc",
   "metadata": {},
   "outputs": [],
   "source": [
    "单元格操作:\n",
    "\n",
    "新增单元格:按B,在下方新增\n",
    "          按A,在上方新增\n",
    "删除单元格:双击D\n",
    "剪切单元格:按X\n",
    "复制单元格:按C\n",
    "粘贴单元格:按V\n",
    "撤销单元格:按Z\n"
   ]
  }
 ],
 "metadata": {
  "kernelspec": {
   "display_name": "Python 3 (ipykernel)",
   "language": "python",
   "name": "python3"
  },
  "language_info": {
   "codemirror_mode": {
    "name": "ipython",
    "version": 3
   },
   "file_extension": ".py",
   "mimetype": "text/x-python",
   "name": "python",
   "nbconvert_exporter": "python",
   "pygments_lexer": "ipython3",
   "version": "3.12.4"
  }
 },
 "nbformat": 4,
 "nbformat_minor": 5
}
